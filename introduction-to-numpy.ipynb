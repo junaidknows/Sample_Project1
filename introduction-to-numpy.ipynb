{
 "cells": [
  {
   "cell_type": "code",
   "execution_count": 1,
   "id": "5822a95f-b5a6-4d4e-966f-a22272bdeb44",
   "metadata": {},
   "outputs": [],
   "source": [
    "#To begin with, have to import numpy as np\n",
    "\n",
    "import numpy as np #np is short for numpy, it just saves us time to in commands"
   ]
  },
  {
   "cell_type": "markdown",
   "id": "e69877b2-ebc6-4aca-91ae-69649a77249c",
   "metadata": {},
   "source": [
    "## Introduction to Numpy DataTypes & Attributes\n",
    "- *Numpy main datatype is ndarray, everything you see in numpy is most likely ndarray* and it's called **N-Dimensional Array.**\n",
    "- An array is simply any list of numbers and N-dimensional means almost any shape we can think of."
   ]
  },
  {
   "cell_type": "code",
   "execution_count": 11,
   "id": "4dc9acd2-e72b-4790-819a-69305c4e72dd",
   "metadata": {},
   "outputs": [
    {
     "data": {
      "text/plain": [
       "array([1, 2, 3])"
      ]
     },
     "execution_count": 11,
     "metadata": {},
     "output_type": "execute_result"
    }
   ],
   "source": [
    "#Create first numpy array\n",
    "\n",
    "a1 = np.array([1, 2, 3])\n",
    "a1"
   ]
  },
  {
   "cell_type": "code",
   "execution_count": 12,
   "id": "824ba0f8-204f-41f1-a171-f60f4de37f72",
   "metadata": {},
   "outputs": [
    {
     "data": {
      "text/plain": [
       "numpy.ndarray"
      ]
     },
     "execution_count": 12,
     "metadata": {},
     "output_type": "execute_result"
    }
   ],
   "source": [
    "#Let's check it's datatype\n",
    "\n",
    "type(a1)"
   ]
  },
  {
   "cell_type": "code",
   "execution_count": 20,
   "id": "dfb98eb0-9781-4c4a-ae9f-c3787daece23",
   "metadata": {},
   "outputs": [],
   "source": [
    "#Create some more arrays\n",
    "\n",
    "a2 = np.array([[1, 2.0, 3.3],\n",
    "              [4.0, 5.0, 6.5]])\n",
    "\n",
    "a3 = np.array([[[1, 2, 3],\n",
    "                   [4, 5, 6],\n",
    "                   [7, 8, 9]],\n",
    "                  \n",
    "                  [[10, 11, 12],\n",
    "                   [13, 14, 15],\n",
    "                   [16, 17, 18]]])"
   ]
  },
  {
   "cell_type": "code",
   "execution_count": 21,
   "id": "eb2f598a-4999-426c-a9a8-874a5038ede8",
   "metadata": {},
   "outputs": [
    {
     "data": {
      "text/plain": [
       "array([[1. , 2. , 3.3],\n",
       "       [4. , 5. , 6.5]])"
      ]
     },
     "execution_count": 21,
     "metadata": {},
     "output_type": "execute_result"
    }
   ],
   "source": [
    "#Print a2 \n",
    "a2"
   ]
  },
  {
   "cell_type": "code",
   "execution_count": 22,
   "id": "7bcf36e6-b02d-48f7-83b0-216f701451f8",
   "metadata": {},
   "outputs": [
    {
     "data": {
      "text/plain": [
       "array([[[ 1,  2,  3],\n",
       "        [ 4,  5,  6],\n",
       "        [ 7,  8,  9]],\n",
       "\n",
       "       [[10, 11, 12],\n",
       "        [13, 14, 15],\n",
       "        [16, 17, 18]]])"
      ]
     },
     "execution_count": 22,
     "metadata": {},
     "output_type": "execute_result"
    }
   ],
   "source": [
    "#Print a3\n",
    "a3"
   ]
  },
  {
   "cell_type": "code",
   "execution_count": 23,
   "id": "0a1917ac-52a2-4996-a455-b19dfa4f267d",
   "metadata": {},
   "outputs": [
    {
     "data": {
      "text/plain": [
       "(3,)"
      ]
     },
     "execution_count": 23,
     "metadata": {},
     "output_type": "execute_result"
    }
   ],
   "source": [
    "# Some of the arributes, associated with Numpys, we can check the shapes for the arrays we performed before:\n",
    "\n",
    "a1.shape #it shows (3,) because it only shows column for this shape, since we only have one row. or sometimes (1,3)"
   ]
  },
  {
   "cell_type": "code",
   "execution_count": 24,
   "id": "55e37c38-4214-4d6f-9a04-79121743a524",
   "metadata": {},
   "outputs": [
    {
     "data": {
      "text/plain": [
       "(2, 3)"
      ]
     },
     "execution_count": 24,
     "metadata": {},
     "output_type": "execute_result"
    }
   ],
   "source": [
    "#Check the anatomy of a2\n",
    "a2.shape"
   ]
  },
  {
   "cell_type": "code",
   "execution_count": 25,
   "id": "a079a1db-eef1-4df2-98db-d1cb3ab7a0db",
   "metadata": {},
   "outputs": [
    {
     "data": {
      "text/plain": [
       "(2, 3, 3)"
      ]
     },
     "execution_count": 25,
     "metadata": {},
     "output_type": "execute_result"
    }
   ],
   "source": [
    "#check the anatomy of a3\n",
    "a3.shape"
   ]
  },
  {
   "cell_type": "code",
   "execution_count": 26,
   "id": "6af08bf3-44dd-47b0-ae26-bc267dce25c6",
   "metadata": {},
   "outputs": [
    {
     "data": {
      "text/plain": [
       "(1, 2, 3)"
      ]
     },
     "execution_count": 26,
     "metadata": {},
     "output_type": "execute_result"
    }
   ],
   "source": [
    "#Try number of dimensions, ndim stands for number of dimensions\n",
    "a1.ndim, a2.ndim, a3.ndim\n",
    "\n",
    "#Depending on how big our dta is, these dimensions keep growing"
   ]
  },
  {
   "cell_type": "code",
   "execution_count": 27,
   "id": "9b59f628-e03d-4bc0-aedf-129690a1ffce",
   "metadata": {},
   "outputs": [
    {
     "data": {
      "text/plain": [
       "(dtype('int64'), dtype('float64'), dtype('int64'))"
      ]
     },
     "execution_count": 27,
     "metadata": {},
     "output_type": "execute_result"
    }
   ],
   "source": [
    "#Find out the datatypes \n",
    "a1.dtype, a2.dtype, a3.dtype"
   ]
  },
  {
   "cell_type": "code",
   "execution_count": 29,
   "id": "60662e6a-692c-4251-8980-fac42cdaf5a3",
   "metadata": {},
   "outputs": [
    {
     "data": {
      "text/plain": [
       "(3, 6, 18)"
      ]
     },
     "execution_count": 29,
     "metadata": {},
     "output_type": "execute_result"
    }
   ],
   "source": [
    "a1.size, a2.size, a3.size #Size attribute tells how many many total elements we have got in our array"
   ]
  },
  {
   "cell_type": "code",
   "execution_count": 30,
   "id": "ee4fe0b6-35ad-4d05-a3ab-369a1ab6dbb8",
   "metadata": {},
   "outputs": [
    {
     "data": {
      "text/plain": [
       "(numpy.ndarray, numpy.ndarray, numpy.ndarray)"
      ]
     },
     "execution_count": 30,
     "metadata": {},
     "output_type": "execute_result"
    }
   ],
   "source": [
    "type(a1), type(a2), type(a3) #ndarray is universal datatype"
   ]
  },
  {
   "cell_type": "markdown",
   "id": "41de4892-4c3f-4750-88e5-1970d7957914",
   "metadata": {},
   "source": [
    "### Create a dataframe from *Numpy* array"
   ]
  },
  {
   "cell_type": "code",
   "execution_count": 34,
   "id": "f48ae678-93cb-4497-908b-d7c4122b7b2d",
   "metadata": {},
   "outputs": [
    {
     "data": {
      "text/html": [
       "<div>\n",
       "<style scoped>\n",
       "    .dataframe tbody tr th:only-of-type {\n",
       "        vertical-align: middle;\n",
       "    }\n",
       "\n",
       "    .dataframe tbody tr th {\n",
       "        vertical-align: top;\n",
       "    }\n",
       "\n",
       "    .dataframe thead th {\n",
       "        text-align: right;\n",
       "    }\n",
       "</style>\n",
       "<table border=\"1\" class=\"dataframe\">\n",
       "  <thead>\n",
       "    <tr style=\"text-align: right;\">\n",
       "      <th></th>\n",
       "      <th>0</th>\n",
       "      <th>1</th>\n",
       "      <th>2</th>\n",
       "    </tr>\n",
       "  </thead>\n",
       "  <tbody>\n",
       "    <tr>\n",
       "      <th>0</th>\n",
       "      <td>1.0</td>\n",
       "      <td>2.0</td>\n",
       "      <td>3.3</td>\n",
       "    </tr>\n",
       "    <tr>\n",
       "      <th>1</th>\n",
       "      <td>4.0</td>\n",
       "      <td>5.0</td>\n",
       "      <td>6.5</td>\n",
       "    </tr>\n",
       "  </tbody>\n",
       "</table>\n",
       "</div>"
      ],
      "text/plain": [
       "     0    1    2\n",
       "0  1.0  2.0  3.3\n",
       "1  4.0  5.0  6.5"
      ]
     },
     "execution_count": 34,
     "metadata": {},
     "output_type": "execute_result"
    }
   ],
   "source": [
    "#We will import panda library\n",
    "\n",
    "import pandas as pd\n",
    "\n",
    "df = pd.DataFrame(a2)\n",
    "df"
   ]
  },
  {
   "cell_type": "code",
   "execution_count": null,
   "id": "fbf8e54b-7519-44e0-af45-ae7b7af338e6",
   "metadata": {},
   "outputs": [],
   "source": []
  },
  {
   "cell_type": "code",
   "execution_count": null,
   "id": "3d3c1714-5bab-4c61-a875-ea11cfc3c8be",
   "metadata": {},
   "outputs": [],
   "source": []
  }
 ],
 "metadata": {
  "kernelspec": {
   "display_name": "Python 3 (ipykernel)",
   "language": "python",
   "name": "python3"
  },
  "language_info": {
   "codemirror_mode": {
    "name": "ipython",
    "version": 3
   },
   "file_extension": ".py",
   "mimetype": "text/x-python",
   "name": "python",
   "nbconvert_exporter": "python",
   "pygments_lexer": "ipython3",
   "version": "3.12.9"
  }
 },
 "nbformat": 4,
 "nbformat_minor": 5
}
