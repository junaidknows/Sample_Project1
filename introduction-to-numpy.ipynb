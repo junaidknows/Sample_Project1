{
 "cells": [
  {
   "cell_type": "code",
   "execution_count": 1,
   "id": "5822a95f-b5a6-4d4e-966f-a22272bdeb44",
   "metadata": {},
   "outputs": [],
   "source": [
    "#To begin with, have to import numpy as np\n",
    "\n",
    "import numpy as np #np is short for numpy, it just saves us time to in commands"
   ]
  },
  {
   "cell_type": "markdown",
   "id": "e69877b2-ebc6-4aca-91ae-69649a77249c",
   "metadata": {},
   "source": [
    "## Introduction to Numpy DataTypes & Attributes\n",
    "- *Numpy main datatype is ndarray, everything you see in numpy is most likely ndarray* and it's called **N-Dimensional Array.**\n",
    "- An array is simply any list of numbers and N-dimensional means almost any shape we can think of."
   ]
  },
  {
   "cell_type": "code",
   "execution_count": 11,
   "id": "4dc9acd2-e72b-4790-819a-69305c4e72dd",
   "metadata": {},
   "outputs": [
    {
     "data": {
      "text/plain": [
       "array([1, 2, 3])"
      ]
     },
     "execution_count": 11,
     "metadata": {},
     "output_type": "execute_result"
    }
   ],
   "source": [
    "#Create first numpy array\n",
    "\n",
    "a1 = np.array([1, 2, 3])\n",
    "a1"
   ]
  },
  {
   "cell_type": "code",
   "execution_count": 12,
   "id": "824ba0f8-204f-41f1-a171-f60f4de37f72",
   "metadata": {},
   "outputs": [
    {
     "data": {
      "text/plain": [
       "numpy.ndarray"
      ]
     },
     "execution_count": 12,
     "metadata": {},
     "output_type": "execute_result"
    }
   ],
   "source": [
    "#Let's check it's datatype\n",
    "\n",
    "type(a1)"
   ]
  },
  {
   "cell_type": "code",
   "execution_count": 20,
   "id": "dfb98eb0-9781-4c4a-ae9f-c3787daece23",
   "metadata": {},
   "outputs": [],
   "source": [
    "#Create some more arrays\n",
    "\n",
    "a2 = np.array([[1, 2.0, 3.3],\n",
    "              [4.0, 5.0, 6.5]])\n",
    "\n",
    "a3 = np.array([[[1, 2, 3],\n",
    "                   [4, 5, 6],\n",
    "                   [7, 8, 9]],\n",
    "                  \n",
    "                  [[10, 11, 12],\n",
    "                   [13, 14, 15],\n",
    "                   [16, 17, 18]]])"
   ]
  },
  {
   "cell_type": "code",
   "execution_count": 21,
   "id": "eb2f598a-4999-426c-a9a8-874a5038ede8",
   "metadata": {},
   "outputs": [
    {
     "data": {
      "text/plain": [
       "array([[1. , 2. , 3.3],\n",
       "       [4. , 5. , 6.5]])"
      ]
     },
     "execution_count": 21,
     "metadata": {},
     "output_type": "execute_result"
    }
   ],
   "source": [
    "#Print a2 \n",
    "a2"
   ]
  },
  {
   "cell_type": "code",
   "execution_count": 22,
   "id": "7bcf36e6-b02d-48f7-83b0-216f701451f8",
   "metadata": {},
   "outputs": [
    {
     "data": {
      "text/plain": [
       "array([[[ 1,  2,  3],\n",
       "        [ 4,  5,  6],\n",
       "        [ 7,  8,  9]],\n",
       "\n",
       "       [[10, 11, 12],\n",
       "        [13, 14, 15],\n",
       "        [16, 17, 18]]])"
      ]
     },
     "execution_count": 22,
     "metadata": {},
     "output_type": "execute_result"
    }
   ],
   "source": [
    "#Print a3\n",
    "a3"
   ]
  },
  {
   "cell_type": "code",
   "execution_count": 23,
   "id": "0a1917ac-52a2-4996-a455-b19dfa4f267d",
   "metadata": {},
   "outputs": [
    {
     "data": {
      "text/plain": [
       "(3,)"
      ]
     },
     "execution_count": 23,
     "metadata": {},
     "output_type": "execute_result"
    }
   ],
   "source": [
    "# Some of the arributes, associated with Numpys, we can check the shapes for the arrays we performed before:\n",
    "\n",
    "a1.shape #it shows (3,) because it only shows column for this shape, since we only have one row. or sometimes (1,3)"
   ]
  },
  {
   "cell_type": "code",
   "execution_count": 24,
   "id": "55e37c38-4214-4d6f-9a04-79121743a524",
   "metadata": {},
   "outputs": [
    {
     "data": {
      "text/plain": [
       "(2, 3)"
      ]
     },
     "execution_count": 24,
     "metadata": {},
     "output_type": "execute_result"
    }
   ],
   "source": [
    "#Check the anatomy of a2\n",
    "a2.shape"
   ]
  },
  {
   "cell_type": "code",
   "execution_count": 25,
   "id": "a079a1db-eef1-4df2-98db-d1cb3ab7a0db",
   "metadata": {},
   "outputs": [
    {
     "data": {
      "text/plain": [
       "(2, 3, 3)"
      ]
     },
     "execution_count": 25,
     "metadata": {},
     "output_type": "execute_result"
    }
   ],
   "source": [
    "#check the anatomy of a3\n",
    "a3.shape"
   ]
  },
  {
   "cell_type": "code",
   "execution_count": 26,
   "id": "6af08bf3-44dd-47b0-ae26-bc267dce25c6",
   "metadata": {},
   "outputs": [
    {
     "data": {
      "text/plain": [
       "(1, 2, 3)"
      ]
     },
     "execution_count": 26,
     "metadata": {},
     "output_type": "execute_result"
    }
   ],
   "source": [
    "#Try number of dimensions, ndim stands for number of dimensions\n",
    "a1.ndim, a2.ndim, a3.ndim\n",
    "\n",
    "#Depending on how big our dta is, these dimensions keep growing"
   ]
  },
  {
   "cell_type": "code",
   "execution_count": 27,
   "id": "9b59f628-e03d-4bc0-aedf-129690a1ffce",
   "metadata": {},
   "outputs": [
    {
     "data": {
      "text/plain": [
       "(dtype('int64'), dtype('float64'), dtype('int64'))"
      ]
     },
     "execution_count": 27,
     "metadata": {},
     "output_type": "execute_result"
    }
   ],
   "source": [
    "#Find out the datatypes \n",
    "a1.dtype, a2.dtype, a3.dtype"
   ]
  },
  {
   "cell_type": "code",
   "execution_count": 29,
   "id": "60662e6a-692c-4251-8980-fac42cdaf5a3",
   "metadata": {},
   "outputs": [
    {
     "data": {
      "text/plain": [
       "(3, 6, 18)"
      ]
     },
     "execution_count": 29,
     "metadata": {},
     "output_type": "execute_result"
    }
   ],
   "source": [
    "a1.size, a2.size, a3.size #Size attribute tells how many many total elements we have got in our array"
   ]
  },
  {
   "cell_type": "code",
   "execution_count": 30,
   "id": "ee4fe0b6-35ad-4d05-a3ab-369a1ab6dbb8",
   "metadata": {},
   "outputs": [
    {
     "data": {
      "text/plain": [
       "(numpy.ndarray, numpy.ndarray, numpy.ndarray)"
      ]
     },
     "execution_count": 30,
     "metadata": {},
     "output_type": "execute_result"
    }
   ],
   "source": [
    "type(a1), type(a2), type(a3) #ndarray is universal datatype"
   ]
  },
  {
   "cell_type": "markdown",
   "id": "41de4892-4c3f-4750-88e5-1970d7957914",
   "metadata": {},
   "source": [
    "### Create a dataframe from *Numpy* array"
   ]
  },
  {
   "cell_type": "code",
   "execution_count": 34,
   "id": "f48ae678-93cb-4497-908b-d7c4122b7b2d",
   "metadata": {},
   "outputs": [
    {
     "data": {
      "text/html": [
       "<div>\n",
       "<style scoped>\n",
       "    .dataframe tbody tr th:only-of-type {\n",
       "        vertical-align: middle;\n",
       "    }\n",
       "\n",
       "    .dataframe tbody tr th {\n",
       "        vertical-align: top;\n",
       "    }\n",
       "\n",
       "    .dataframe thead th {\n",
       "        text-align: right;\n",
       "    }\n",
       "</style>\n",
       "<table border=\"1\" class=\"dataframe\">\n",
       "  <thead>\n",
       "    <tr style=\"text-align: right;\">\n",
       "      <th></th>\n",
       "      <th>0</th>\n",
       "      <th>1</th>\n",
       "      <th>2</th>\n",
       "    </tr>\n",
       "  </thead>\n",
       "  <tbody>\n",
       "    <tr>\n",
       "      <th>0</th>\n",
       "      <td>1.0</td>\n",
       "      <td>2.0</td>\n",
       "      <td>3.3</td>\n",
       "    </tr>\n",
       "    <tr>\n",
       "      <th>1</th>\n",
       "      <td>4.0</td>\n",
       "      <td>5.0</td>\n",
       "      <td>6.5</td>\n",
       "    </tr>\n",
       "  </tbody>\n",
       "</table>\n",
       "</div>"
      ],
      "text/plain": [
       "     0    1    2\n",
       "0  1.0  2.0  3.3\n",
       "1  4.0  5.0  6.5"
      ]
     },
     "execution_count": 34,
     "metadata": {},
     "output_type": "execute_result"
    }
   ],
   "source": [
    "#We will import panda library\n",
    "\n",
    "import pandas as pd\n",
    "\n",
    "df = pd.DataFrame(a2)\n",
    "df"
   ]
  },
  {
   "cell_type": "markdown",
   "id": "a0d18016-33f6-4426-a5dd-8a7d6fd806bd",
   "metadata": {},
   "source": [
    "## Create Numpy arrays"
   ]
  },
  {
   "cell_type": "code",
   "execution_count": 36,
   "id": "86a3eb3d-adf3-4ed5-8952-c880b6dc2761",
   "metadata": {},
   "outputs": [
    {
     "data": {
      "text/plain": [
       "array([1, 2, 3])"
      ]
     },
     "execution_count": 36,
     "metadata": {},
     "output_type": "execute_result"
    }
   ],
   "source": [
    "#1-Dimensional Numpy array\n",
    "sample_array = np.array([1, 2, 3])\n",
    "sample_array"
   ]
  },
  {
   "cell_type": "code",
   "execution_count": 37,
   "id": "f9e3ff9b-2c4f-4a88-a87b-3739ed4de880",
   "metadata": {},
   "outputs": [
    {
     "data": {
      "text/plain": [
       "dtype('int64')"
      ]
     },
     "execution_count": 37,
     "metadata": {},
     "output_type": "execute_result"
    }
   ],
   "source": [
    "sample_array.dtype"
   ]
  },
  {
   "cell_type": "code",
   "execution_count": 40,
   "id": "5c46e354-8374-4cea-b16d-b27d729bae1d",
   "metadata": {},
   "outputs": [],
   "source": [
    "ones = np.ones((1, 2, 3))"
   ]
  },
  {
   "cell_type": "code",
   "execution_count": 41,
   "id": "0056ddae-e5e0-4cf2-8a84-526e9ec1a75a",
   "metadata": {},
   "outputs": [
    {
     "data": {
      "text/plain": [
       "array([[[1., 1., 1.],\n",
       "        [1., 1., 1.]]])"
      ]
     },
     "execution_count": 41,
     "metadata": {},
     "output_type": "execute_result"
    }
   ],
   "source": [
    "ones"
   ]
  },
  {
   "cell_type": "markdown",
   "id": "8406d3d4-cc0f-4860-802c-138b88882b20",
   "metadata": {},
   "source": [
    "#### In Machine Learning, Zeros are kind of like a placeholder array:\n",
    "- In Machine Learning, sometimes we want to fill an array with some initial data or the data we don't know yet, so you create zeros to figure out the shapes of data we're working with."
   ]
  },
  {
   "cell_type": "code",
   "execution_count": 44,
   "id": "7821d616-b1eb-48be-87a0-dca7186f274d",
   "metadata": {},
   "outputs": [
    {
     "data": {
      "text/plain": [
       "array([[0., 0., 0.],\n",
       "       [0., 0., 0.]])"
      ]
     },
     "execution_count": 44,
     "metadata": {},
     "output_type": "execute_result"
    }
   ],
   "source": [
    "# We can try with np.zeros\n",
    "\n",
    "zeros = np.zeros((2, 3))\n",
    "zeros"
   ]
  },
  {
   "cell_type": "code",
   "execution_count": 45,
   "id": "22bb819a-58fa-4025-b11c-c295fca155ae",
   "metadata": {},
   "outputs": [
    {
     "data": {
      "text/plain": [
       "array([0, 2, 4, 6, 8])"
      ]
     },
     "execution_count": 45,
     "metadata": {},
     "output_type": "execute_result"
    }
   ],
   "source": [
    "#arange array: It will have start, stop and skip. For example code below, start at 0, finish at 10 but skip 2 for intervals\n",
    "\n",
    "range_array = np.arange(0, 10, 2)\n",
    "range_array"
   ]
  },
  {
   "cell_type": "code",
   "execution_count": 53,
   "id": "e9cedf2f-8017-43c3-9716-28a22b686283",
   "metadata": {},
   "outputs": [
    {
     "data": {
      "text/plain": [
       "array([[7, 6, 7, 6, 0],\n",
       "       [3, 1, 5, 3, 4],\n",
       "       [9, 5, 9, 0, 8]])"
      ]
     },
     "execution_count": 53,
     "metadata": {},
     "output_type": "execute_result"
    }
   ],
   "source": [
    "#Random. randtint array: If we don't know any numbers, and we want random fill in an array, we use random array:\n",
    "\n",
    "random_array = np.random.randint(0, 10, size=(3, 5))\n",
    "random_array"
   ]
  },
  {
   "cell_type": "code",
   "execution_count": 49,
   "id": "5af4ddac-588a-4028-97d2-63ce7e3b0298",
   "metadata": {},
   "outputs": [
    {
     "data": {
      "text/plain": [
       "15"
      ]
     },
     "execution_count": 49,
     "metadata": {},
     "output_type": "execute_result"
    }
   ],
   "source": [
    "#Let's check the size of our random array, which will give us number of elements in the array\n",
    "random_array.size"
   ]
  },
  {
   "cell_type": "code",
   "execution_count": 50,
   "id": "e2df3542-d673-4a13-8380-a6c300879974",
   "metadata": {},
   "outputs": [
    {
     "data": {
      "text/plain": [
       "(3, 5)"
      ]
     },
     "execution_count": 50,
     "metadata": {},
     "output_type": "execute_result"
    }
   ],
   "source": [
    "#We can check the shape of it, as we asked for 3 x 5 (which means 3 rows and 5 columns shape)\n",
    "random_array.shape"
   ]
  },
  {
   "cell_type": "code",
   "execution_count": 56,
   "id": "a15fc629-9620-4681-95fe-37d03854c2be",
   "metadata": {},
   "outputs": [
    {
     "data": {
      "text/plain": [
       "array([[0.6660524 , 0.3976064 , 0.1769514 ],\n",
       "       [0.61757264, 0.47901413, 0.4322862 ],\n",
       "       [0.91339375, 0.4104531 , 0.71072974],\n",
       "       [0.16465009, 0.56544893, 0.09274836],\n",
       "       [0.17155785, 0.65609752, 0.25934992]])"
      ]
     },
     "execution_count": 56,
     "metadata": {},
     "output_type": "execute_result"
    }
   ],
   "source": [
    "#Totally random array .random\n",
    "\n",
    "random_array_2 = np.random.random((5, 3))\n",
    "random_array_2"
   ]
  },
  {
   "cell_type": "code",
   "execution_count": 57,
   "id": "e88f0bd0-de70-493b-b6a6-bd1011189698",
   "metadata": {},
   "outputs": [
    {
     "data": {
      "text/plain": [
       "(5, 3)"
      ]
     },
     "execution_count": 57,
     "metadata": {},
     "output_type": "execute_result"
    }
   ],
   "source": [
    "#Let's check the shape for random_array_2\n",
    "random_array_2.shape"
   ]
  },
  {
   "cell_type": "code",
   "execution_count": 59,
   "id": "1a0fa518-c53e-4767-8f87-f47fb8068cd2",
   "metadata": {},
   "outputs": [
    {
     "data": {
      "text/plain": [
       "array([[0.49053862, 0.61021172, 0.66456301],\n",
       "       [0.24890998, 0.73439168, 0.9825875 ],\n",
       "       [0.57879912, 0.65965929, 0.59177006],\n",
       "       [0.38226766, 0.39756596, 0.64664341],\n",
       "       [0.20274903, 0.29696728, 0.64274854]])"
      ]
     },
     "execution_count": 59,
     "metadata": {},
     "output_type": "execute_result"
    }
   ],
   "source": [
    "#There's another random array which can sometimes get confusing in in Numpy, it's .rand() \n",
    "\n",
    "random_array_3 = np.random.rand(5, 3)\n",
    "random_array_3"
   ]
  },
  {
   "cell_type": "code",
   "execution_count": null,
   "id": "ab74429a-230e-4826-bf60-bcfc8e879060",
   "metadata": {},
   "outputs": [],
   "source": [
    "#Let's create random seed: which are also known as Pseudo-random numbers. \n",
    "#When Numpy generates random numbers, it's actually suedo random numbers\n",
    "\n"
   ]
  }
 ],
 "metadata": {
  "kernelspec": {
   "display_name": "Python 3 (ipykernel)",
   "language": "python",
   "name": "python3"
  },
  "language_info": {
   "codemirror_mode": {
    "name": "ipython",
    "version": 3
   },
   "file_extension": ".py",
   "mimetype": "text/x-python",
   "name": "python",
   "nbconvert_exporter": "python",
   "pygments_lexer": "ipython3",
   "version": "3.12.9"
  }
 },
 "nbformat": 4,
 "nbformat_minor": 5
}
