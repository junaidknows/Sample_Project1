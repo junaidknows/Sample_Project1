{
 "cells": [
  {
   "cell_type": "code",
   "execution_count": 90,
   "id": "5822a95f-b5a6-4d4e-966f-a22272bdeb44",
   "metadata": {},
   "outputs": [],
   "source": [
    "#To begin with, have to import numpy as np\n",
    "\n",
    "import numpy as np #np is short for numpy, it just saves us time to in commands"
   ]
  },
  {
   "cell_type": "markdown",
   "id": "e69877b2-ebc6-4aca-91ae-69649a77249c",
   "metadata": {},
   "source": [
    "## Introduction to Numpy DataTypes & Attributes\n",
    "- *Numpy main datatype is ndarray, everything you see in numpy is most likely ndarray* and it's called **N-Dimensional Array.**\n",
    "- An array is simply any list of numbers and N-dimensional means almost any shape we can think of."
   ]
  },
  {
   "cell_type": "code",
   "execution_count": 91,
   "id": "4dc9acd2-e72b-4790-819a-69305c4e72dd",
   "metadata": {},
   "outputs": [
    {
     "data": {
      "text/plain": [
       "array([1, 2, 3])"
      ]
     },
     "execution_count": 91,
     "metadata": {},
     "output_type": "execute_result"
    }
   ],
   "source": [
    "#Create first numpy array\n",
    "\n",
    "a1 = np.array([1, 2, 3])\n",
    "a1"
   ]
  },
  {
   "cell_type": "code",
   "execution_count": 92,
   "id": "824ba0f8-204f-41f1-a171-f60f4de37f72",
   "metadata": {},
   "outputs": [
    {
     "data": {
      "text/plain": [
       "numpy.ndarray"
      ]
     },
     "execution_count": 92,
     "metadata": {},
     "output_type": "execute_result"
    }
   ],
   "source": [
    "#Let's check it's datatype\n",
    "\n",
    "type(a1)"
   ]
  },
  {
   "cell_type": "code",
   "execution_count": 93,
   "id": "dfb98eb0-9781-4c4a-ae9f-c3787daece23",
   "metadata": {},
   "outputs": [],
   "source": [
    "#Create some more arrays\n",
    "\n",
    "a2 = np.array([[1, 2.0, 3.3],\n",
    "              [4.0, 5.0, 6.5]])\n",
    "\n",
    "a3 = np.array([[[1, 2, 3],\n",
    "                   [4, 5, 6],\n",
    "                   [7, 8, 9]],\n",
    "                  \n",
    "                  [[10, 11, 12],\n",
    "                   [13, 14, 15],\n",
    "                   [16, 17, 18]]])"
   ]
  },
  {
   "cell_type": "code",
   "execution_count": 94,
   "id": "eb2f598a-4999-426c-a9a8-874a5038ede8",
   "metadata": {},
   "outputs": [
    {
     "data": {
      "text/plain": [
       "array([[1. , 2. , 3.3],\n",
       "       [4. , 5. , 6.5]])"
      ]
     },
     "execution_count": 94,
     "metadata": {},
     "output_type": "execute_result"
    }
   ],
   "source": [
    "#Print a2 \n",
    "a2"
   ]
  },
  {
   "cell_type": "code",
   "execution_count": 95,
   "id": "7bcf36e6-b02d-48f7-83b0-216f701451f8",
   "metadata": {},
   "outputs": [
    {
     "data": {
      "text/plain": [
       "array([[[ 1,  2,  3],\n",
       "        [ 4,  5,  6],\n",
       "        [ 7,  8,  9]],\n",
       "\n",
       "       [[10, 11, 12],\n",
       "        [13, 14, 15],\n",
       "        [16, 17, 18]]])"
      ]
     },
     "execution_count": 95,
     "metadata": {},
     "output_type": "execute_result"
    }
   ],
   "source": [
    "#Print a3\n",
    "a3"
   ]
  },
  {
   "cell_type": "code",
   "execution_count": 96,
   "id": "0a1917ac-52a2-4996-a455-b19dfa4f267d",
   "metadata": {},
   "outputs": [
    {
     "data": {
      "text/plain": [
       "(3,)"
      ]
     },
     "execution_count": 96,
     "metadata": {},
     "output_type": "execute_result"
    }
   ],
   "source": [
    "# Some of the arributes, associated with Numpys, we can check the shapes for the arrays we performed before:\n",
    "\n",
    "a1.shape #it shows (3,) because it only shows column for this shape, since we only have one row. or sometimes (1,3)"
   ]
  },
  {
   "cell_type": "code",
   "execution_count": 97,
   "id": "55e37c38-4214-4d6f-9a04-79121743a524",
   "metadata": {},
   "outputs": [
    {
     "data": {
      "text/plain": [
       "(2, 3)"
      ]
     },
     "execution_count": 97,
     "metadata": {},
     "output_type": "execute_result"
    }
   ],
   "source": [
    "#Check the anatomy of a2\n",
    "a2.shape"
   ]
  },
  {
   "cell_type": "code",
   "execution_count": 98,
   "id": "a079a1db-eef1-4df2-98db-d1cb3ab7a0db",
   "metadata": {},
   "outputs": [
    {
     "data": {
      "text/plain": [
       "(2, 3, 3)"
      ]
     },
     "execution_count": 98,
     "metadata": {},
     "output_type": "execute_result"
    }
   ],
   "source": [
    "#check the anatomy of a3\n",
    "a3.shape"
   ]
  },
  {
   "cell_type": "code",
   "execution_count": 99,
   "id": "6af08bf3-44dd-47b0-ae26-bc267dce25c6",
   "metadata": {},
   "outputs": [
    {
     "data": {
      "text/plain": [
       "(1, 2, 3)"
      ]
     },
     "execution_count": 99,
     "metadata": {},
     "output_type": "execute_result"
    }
   ],
   "source": [
    "#Try number of dimensions, ndim stands for number of dimensions\n",
    "a1.ndim, a2.ndim, a3.ndim\n",
    "\n",
    "#Depending on how big our dta is, these dimensions keep growing"
   ]
  },
  {
   "cell_type": "code",
   "execution_count": 100,
   "id": "9b59f628-e03d-4bc0-aedf-129690a1ffce",
   "metadata": {},
   "outputs": [
    {
     "data": {
      "text/plain": [
       "(dtype('int64'), dtype('float64'), dtype('int64'))"
      ]
     },
     "execution_count": 100,
     "metadata": {},
     "output_type": "execute_result"
    }
   ],
   "source": [
    "#Find out the datatypes \n",
    "a1.dtype, a2.dtype, a3.dtype"
   ]
  },
  {
   "cell_type": "code",
   "execution_count": 101,
   "id": "60662e6a-692c-4251-8980-fac42cdaf5a3",
   "metadata": {},
   "outputs": [
    {
     "data": {
      "text/plain": [
       "(3, 6, 18)"
      ]
     },
     "execution_count": 101,
     "metadata": {},
     "output_type": "execute_result"
    }
   ],
   "source": [
    "a1.size, a2.size, a3.size #Size attribute tells how many many total elements we have got in our array"
   ]
  },
  {
   "cell_type": "code",
   "execution_count": 102,
   "id": "ee4fe0b6-35ad-4d05-a3ab-369a1ab6dbb8",
   "metadata": {},
   "outputs": [
    {
     "data": {
      "text/plain": [
       "(numpy.ndarray, numpy.ndarray, numpy.ndarray)"
      ]
     },
     "execution_count": 102,
     "metadata": {},
     "output_type": "execute_result"
    }
   ],
   "source": [
    "type(a1), type(a2), type(a3) #ndarray is universal datatype"
   ]
  },
  {
   "cell_type": "markdown",
   "id": "41de4892-4c3f-4750-88e5-1970d7957914",
   "metadata": {},
   "source": [
    "### Create a dataframe from *Numpy* array"
   ]
  },
  {
   "cell_type": "code",
   "execution_count": 103,
   "id": "f48ae678-93cb-4497-908b-d7c4122b7b2d",
   "metadata": {},
   "outputs": [
    {
     "data": {
      "text/html": [
       "<div>\n",
       "<style scoped>\n",
       "    .dataframe tbody tr th:only-of-type {\n",
       "        vertical-align: middle;\n",
       "    }\n",
       "\n",
       "    .dataframe tbody tr th {\n",
       "        vertical-align: top;\n",
       "    }\n",
       "\n",
       "    .dataframe thead th {\n",
       "        text-align: right;\n",
       "    }\n",
       "</style>\n",
       "<table border=\"1\" class=\"dataframe\">\n",
       "  <thead>\n",
       "    <tr style=\"text-align: right;\">\n",
       "      <th></th>\n",
       "      <th>0</th>\n",
       "      <th>1</th>\n",
       "      <th>2</th>\n",
       "    </tr>\n",
       "  </thead>\n",
       "  <tbody>\n",
       "    <tr>\n",
       "      <th>0</th>\n",
       "      <td>1.0</td>\n",
       "      <td>2.0</td>\n",
       "      <td>3.3</td>\n",
       "    </tr>\n",
       "    <tr>\n",
       "      <th>1</th>\n",
       "      <td>4.0</td>\n",
       "      <td>5.0</td>\n",
       "      <td>6.5</td>\n",
       "    </tr>\n",
       "  </tbody>\n",
       "</table>\n",
       "</div>"
      ],
      "text/plain": [
       "     0    1    2\n",
       "0  1.0  2.0  3.3\n",
       "1  4.0  5.0  6.5"
      ]
     },
     "execution_count": 103,
     "metadata": {},
     "output_type": "execute_result"
    }
   ],
   "source": [
    "#We will import panda library\n",
    "\n",
    "import pandas as pd\n",
    "\n",
    "df = pd.DataFrame(a2)\n",
    "df"
   ]
  },
  {
   "cell_type": "markdown",
   "id": "a0d18016-33f6-4426-a5dd-8a7d6fd806bd",
   "metadata": {},
   "source": [
    "## Create Numpy arrays"
   ]
  },
  {
   "cell_type": "code",
   "execution_count": 104,
   "id": "86a3eb3d-adf3-4ed5-8952-c880b6dc2761",
   "metadata": {},
   "outputs": [
    {
     "data": {
      "text/plain": [
       "array([1, 2, 3])"
      ]
     },
     "execution_count": 104,
     "metadata": {},
     "output_type": "execute_result"
    }
   ],
   "source": [
    "#1-Dimensional Numpy array\n",
    "sample_array = np.array([1, 2, 3])\n",
    "sample_array"
   ]
  },
  {
   "cell_type": "code",
   "execution_count": 105,
   "id": "f9e3ff9b-2c4f-4a88-a87b-3739ed4de880",
   "metadata": {},
   "outputs": [
    {
     "data": {
      "text/plain": [
       "dtype('int64')"
      ]
     },
     "execution_count": 105,
     "metadata": {},
     "output_type": "execute_result"
    }
   ],
   "source": [
    "sample_array.dtype"
   ]
  },
  {
   "cell_type": "code",
   "execution_count": 106,
   "id": "5c46e354-8374-4cea-b16d-b27d729bae1d",
   "metadata": {},
   "outputs": [],
   "source": [
    "ones = np.ones((1, 2, 3))"
   ]
  },
  {
   "cell_type": "code",
   "execution_count": 107,
   "id": "0056ddae-e5e0-4cf2-8a84-526e9ec1a75a",
   "metadata": {},
   "outputs": [
    {
     "data": {
      "text/plain": [
       "array([[[1., 1., 1.],\n",
       "        [1., 1., 1.]]])"
      ]
     },
     "execution_count": 107,
     "metadata": {},
     "output_type": "execute_result"
    }
   ],
   "source": [
    "ones"
   ]
  },
  {
   "cell_type": "markdown",
   "id": "8406d3d4-cc0f-4860-802c-138b88882b20",
   "metadata": {},
   "source": [
    "#### In Machine Learning, Zeros are kind of like a placeholder array:\n",
    "- In Machine Learning, sometimes we want to fill an array with some initial data or the data we don't know yet, so you create zeros to figure out the shapes of data we're working with."
   ]
  },
  {
   "cell_type": "code",
   "execution_count": 108,
   "id": "7821d616-b1eb-48be-87a0-dca7186f274d",
   "metadata": {},
   "outputs": [
    {
     "data": {
      "text/plain": [
       "array([[0., 0., 0.],\n",
       "       [0., 0., 0.]])"
      ]
     },
     "execution_count": 108,
     "metadata": {},
     "output_type": "execute_result"
    }
   ],
   "source": [
    "# We can try with np.zeros\n",
    "\n",
    "zeros = np.zeros((2, 3))\n",
    "zeros"
   ]
  },
  {
   "cell_type": "code",
   "execution_count": 109,
   "id": "22bb819a-58fa-4025-b11c-c295fca155ae",
   "metadata": {},
   "outputs": [
    {
     "data": {
      "text/plain": [
       "array([0, 2, 4, 6, 8])"
      ]
     },
     "execution_count": 109,
     "metadata": {},
     "output_type": "execute_result"
    }
   ],
   "source": [
    "#arange array: It will have start, stop and skip. For example code below, start at 0, finish at 10 but skip 2 for intervals\n",
    "\n",
    "range_array = np.arange(0, 10, 2)\n",
    "range_array"
   ]
  },
  {
   "cell_type": "code",
   "execution_count": 110,
   "id": "e9cedf2f-8017-43c3-9716-28a22b686283",
   "metadata": {},
   "outputs": [
    {
     "data": {
      "text/plain": [
       "array([[2, 9, 4, 6, 1],\n",
       "       [0, 1, 1, 8, 2],\n",
       "       [9, 5, 6, 0, 3]])"
      ]
     },
     "execution_count": 110,
     "metadata": {},
     "output_type": "execute_result"
    }
   ],
   "source": [
    "#Random. randtint array: If we don't know any numbers, and we want random fill in an array, we use random array:\n",
    "\n",
    "random_array = np.random.randint(0, 10, size=(3, 5))\n",
    "random_array"
   ]
  },
  {
   "cell_type": "code",
   "execution_count": 111,
   "id": "5af4ddac-588a-4028-97d2-63ce7e3b0298",
   "metadata": {},
   "outputs": [
    {
     "data": {
      "text/plain": [
       "15"
      ]
     },
     "execution_count": 111,
     "metadata": {},
     "output_type": "execute_result"
    }
   ],
   "source": [
    "#Let's check the size of our random array, which will give us number of elements in the array\n",
    "random_array.size"
   ]
  },
  {
   "cell_type": "code",
   "execution_count": 112,
   "id": "e2df3542-d673-4a13-8380-a6c300879974",
   "metadata": {},
   "outputs": [
    {
     "data": {
      "text/plain": [
       "(3, 5)"
      ]
     },
     "execution_count": 112,
     "metadata": {},
     "output_type": "execute_result"
    }
   ],
   "source": [
    "#We can check the shape of it, as we asked for 3 x 5 (which means 3 rows and 5 columns shape)\n",
    "random_array.shape"
   ]
  },
  {
   "cell_type": "code",
   "execution_count": 113,
   "id": "a15fc629-9620-4681-95fe-37d03854c2be",
   "metadata": {},
   "outputs": [
    {
     "data": {
      "text/plain": [
       "array([[0.86199936, 0.59028378, 0.67426006],\n",
       "       [0.30375406, 0.25111261, 0.21695607],\n",
       "       [0.58458583, 0.98544796, 0.48809561],\n",
       "       [0.8765126 , 0.944892  , 0.98722491],\n",
       "       [0.93401598, 0.2408063 , 0.15676742]])"
      ]
     },
     "execution_count": 113,
     "metadata": {},
     "output_type": "execute_result"
    }
   ],
   "source": [
    "#Totally random array .random\n",
    "\n",
    "random_array_2 = np.random.random((5, 3))\n",
    "random_array_2"
   ]
  },
  {
   "cell_type": "code",
   "execution_count": 114,
   "id": "e88f0bd0-de70-493b-b6a6-bd1011189698",
   "metadata": {},
   "outputs": [
    {
     "data": {
      "text/plain": [
       "(5, 3)"
      ]
     },
     "execution_count": 114,
     "metadata": {},
     "output_type": "execute_result"
    }
   ],
   "source": [
    "#Let's check the shape for random_array_2\n",
    "random_array_2.shape"
   ]
  },
  {
   "cell_type": "code",
   "execution_count": 115,
   "id": "1a0fa518-c53e-4767-8f87-f47fb8068cd2",
   "metadata": {},
   "outputs": [
    {
     "data": {
      "text/plain": [
       "array([[0.27359119, 0.9151579 , 0.40355689],\n",
       "       [0.14959616, 0.78713652, 0.15704568],\n",
       "       [0.63161278, 0.95592184, 0.82020686],\n",
       "       [0.21627274, 0.6002433 , 0.68535913],\n",
       "       [0.80998771, 0.7974721 , 0.79796367]])"
      ]
     },
     "execution_count": 115,
     "metadata": {},
     "output_type": "execute_result"
    }
   ],
   "source": [
    "#There's another random array which can sometimes get confusing in in Numpy, it's .rand() \n",
    "\n",
    "random_array_3 = np.random.rand(5, 3)\n",
    "random_array_3"
   ]
  },
  {
   "cell_type": "markdown",
   "id": "84a2073e-0aa7-4c8e-8107-229231dc18f6",
   "metadata": {},
   "source": [
    "### Let's create random seed: which are also known as Pseudo-random numbers. \n",
    "- When Numpy generates random numbers, it's actually suedo random numbers.\n",
    "- Through out our Machine learning journey, whereever we come across random numbers array, we will see\n",
    "```python\n",
    "np.random.seed()\n",
    "```\n",
    "Description about .seed():\n",
    "*The seed function in NumPy (np.random.seed()) is like setting a starting point for generating random numbers. Think of it as a recipe - if you use the same seed, you'll get the same sequence of random numbers every time.*"
   ]
  },
  {
   "cell_type": "code",
   "execution_count": 116,
   "id": "6df613b7-f059-429c-b4d0-5d7964b8edeb",
   "metadata": {},
   "outputs": [
    {
     "data": {
      "text/plain": [
       "array([[5, 8, 9],\n",
       "       [5, 0, 0],\n",
       "       [1, 7, 6],\n",
       "       [9, 2, 4],\n",
       "       [5, 2, 4]])"
      ]
     },
     "execution_count": 116,
     "metadata": {},
     "output_type": "execute_result"
    }
   ],
   "source": [
    "np.random.seed(seed=1) # seed = it could be any number from 0\n",
    "random_array_4 = np.random.randint(10, size=(5,3))\n",
    "random_array_4"
   ]
  },
  {
   "cell_type": "code",
   "execution_count": 117,
   "id": "b39e170c-6f04-4a8c-9260-a8b9579959aa",
   "metadata": {},
   "outputs": [
    {
     "data": {
      "text/plain": [
       "(5, 3)"
      ]
     },
     "execution_count": 117,
     "metadata": {},
     "output_type": "execute_result"
    }
   ],
   "source": [
    "#We can check the shape of random_array_4 and size parameter is actually the shape of our arrays\n",
    "random_array_4.shape"
   ]
  },
  {
   "cell_type": "code",
   "execution_count": 118,
   "id": "77c98082-bd61-47ac-9b36-013915b4cd63",
   "metadata": {},
   "outputs": [
    {
     "data": {
      "text/plain": [
       "array([[0.07630829, 0.77991879, 0.43840923],\n",
       "       [0.72346518, 0.97798951, 0.53849587],\n",
       "       [0.50112046, 0.07205113, 0.26843898],\n",
       "       [0.4998825 , 0.67923   , 0.80373904],\n",
       "       [0.38094113, 0.06593635, 0.2881456 ]])"
      ]
     },
     "execution_count": 118,
     "metadata": {},
     "output_type": "execute_result"
    }
   ],
   "source": [
    "#Another example with .seed()\n",
    "\n",
    "np.random.seed(7)\n",
    "random_array_5 = np.random.random((5, 3))\n",
    "random_array_5"
   ]
  },
  {
   "cell_type": "markdown",
   "id": "f8f1a4f5-bcc2-429f-8931-0cb286db272f",
   "metadata": {},
   "source": [
    "### Key Takeaways:\n",
    "- The number we see Numpy generating randomly are not actually random, they are Pseudo numbers"
   ]
  },
  {
   "cell_type": "code",
   "execution_count": 119,
   "id": "e3f25a54-f27b-486a-bd9e-d2f6cd6ff09b",
   "metadata": {},
   "outputs": [],
   "source": [
    "#If we don't have random.seed() in our code, in the backend, numbers are generating with random seeds."
   ]
  },
  {
   "cell_type": "markdown",
   "id": "a6182937-e2f1-4f43-8f3c-483d01986eb5",
   "metadata": {},
   "source": [
    "## Different ways of *Viewing arrays and Matrices* "
   ]
  },
  {
   "cell_type": "code",
   "execution_count": 120,
   "id": "ae8cf9cb-1e0b-4f7b-9434-bc815574299d",
   "metadata": {},
   "outputs": [
    {
     "data": {
      "text/plain": [
       "array([0, 1, 2, 4, 5, 6, 7, 8, 9])"
      ]
     },
     "execution_count": 120,
     "metadata": {},
     "output_type": "execute_result"
    }
   ],
   "source": [
    "# .unique() : Returns the sorted unique value.\n",
    "\n",
    "np.unique(random_array_4)"
   ]
  },
  {
   "cell_type": "code",
   "execution_count": 121,
   "id": "12b15b8e-7046-4d26-977a-df98f8df9773",
   "metadata": {},
   "outputs": [
    {
     "data": {
      "text/plain": [
       "array([1, 2, 3])"
      ]
     },
     "execution_count": 121,
     "metadata": {},
     "output_type": "execute_result"
    }
   ],
   "source": [
    "a1"
   ]
  },
  {
   "cell_type": "code",
   "execution_count": 122,
   "id": "0c5adcdb-2375-40b7-ac0d-cc94b765c01e",
   "metadata": {},
   "outputs": [
    {
     "data": {
      "text/plain": [
       "array([[1. , 2. , 3.3],\n",
       "       [4. , 5. , 6.5]])"
      ]
     },
     "execution_count": 122,
     "metadata": {},
     "output_type": "execute_result"
    }
   ],
   "source": [
    "a2"
   ]
  },
  {
   "cell_type": "code",
   "execution_count": 123,
   "id": "40540433-36e3-48b4-a24f-1195d460f49d",
   "metadata": {},
   "outputs": [
    {
     "data": {
      "text/plain": [
       "array([[[ 1,  2,  3],\n",
       "        [ 4,  5,  6],\n",
       "        [ 7,  8,  9]],\n",
       "\n",
       "       [[10, 11, 12],\n",
       "        [13, 14, 15],\n",
       "        [16, 17, 18]]])"
      ]
     },
     "execution_count": 123,
     "metadata": {},
     "output_type": "execute_result"
    }
   ],
   "source": [
    "a3"
   ]
  },
  {
   "cell_type": "code",
   "execution_count": 124,
   "id": "534a22c5-abae-4586-b80a-bf3f8f202cd4",
   "metadata": {},
   "outputs": [
    {
     "data": {
      "text/plain": [
       "array([[[[3, 5, 8, 8, 7],\n",
       "         [5, 0, 0, 2, 8],\n",
       "         [9, 6, 4, 9, 7],\n",
       "         [3, 3, 8, 3, 0]],\n",
       "\n",
       "        [[1, 0, 0, 6, 7],\n",
       "         [7, 9, 3, 0, 7],\n",
       "         [7, 7, 0, 5, 4],\n",
       "         [3, 1, 3, 1, 3]],\n",
       "\n",
       "        [[4, 3, 1, 9, 5],\n",
       "         [9, 1, 2, 3, 2],\n",
       "         [2, 5, 7, 3, 0],\n",
       "         [9, 9, 3, 4, 5]]],\n",
       "\n",
       "\n",
       "       [[[3, 0, 4, 8, 6],\n",
       "         [7, 2, 7, 3, 8],\n",
       "         [6, 6, 5, 6, 5],\n",
       "         [7, 1, 5, 4, 4]],\n",
       "\n",
       "        [[9, 9, 0, 6, 2],\n",
       "         [6, 8, 2, 4, 1],\n",
       "         [6, 1, 5, 1, 6],\n",
       "         [9, 8, 6, 5, 9]],\n",
       "\n",
       "        [[7, 5, 4, 9, 6],\n",
       "         [8, 1, 5, 5, 8],\n",
       "         [3, 7, 7, 9, 4],\n",
       "         [7, 5, 9, 6, 2]]]])"
      ]
     },
     "execution_count": 124,
     "metadata": {},
     "output_type": "execute_result"
    }
   ],
   "source": [
    "a4 = np.random.randint(10, size=(2, 3, 4, 5))\n",
    "a4"
   ]
  },
  {
   "cell_type": "code",
   "execution_count": 125,
   "id": "4265dd50-3b94-44bb-8ea6-b1ab8e2e8cdc",
   "metadata": {},
   "outputs": [
    {
     "data": {
      "text/plain": [
       "(2, 3, 4, 5)"
      ]
     },
     "execution_count": 125,
     "metadata": {},
     "output_type": "execute_result"
    }
   ],
   "source": [
    "a4.shape"
   ]
  },
  {
   "cell_type": "code",
   "execution_count": 126,
   "id": "a846546b-c7ad-46ca-b6ae-2ffd1f9fb47e",
   "metadata": {},
   "outputs": [
    {
     "data": {
      "text/plain": [
       "4"
      ]
     },
     "execution_count": 126,
     "metadata": {},
     "output_type": "execute_result"
    }
   ],
   "source": [
    "a4.ndim #number of dimensions"
   ]
  },
  {
   "cell_type": "code",
   "execution_count": 135,
   "id": "1ffee7d4-4a1a-49e5-8c0a-2758ea55de4e",
   "metadata": {},
   "outputs": [
    {
     "data": {
      "text/plain": [
       "array([[[[3, 5, 8, 8],\n",
       "         [5, 0, 0, 2],\n",
       "         [9, 6, 4, 9],\n",
       "         [3, 3, 8, 3]],\n",
       "\n",
       "        [[1, 0, 0, 6],\n",
       "         [7, 9, 3, 0],\n",
       "         [7, 7, 0, 5],\n",
       "         [3, 1, 3, 1]],\n",
       "\n",
       "        [[4, 3, 1, 9],\n",
       "         [9, 1, 2, 3],\n",
       "         [2, 5, 7, 3],\n",
       "         [9, 9, 3, 4]]],\n",
       "\n",
       "\n",
       "       [[[3, 0, 4, 8],\n",
       "         [7, 2, 7, 3],\n",
       "         [6, 6, 5, 6],\n",
       "         [7, 1, 5, 4]],\n",
       "\n",
       "        [[9, 9, 0, 6],\n",
       "         [6, 8, 2, 4],\n",
       "         [6, 1, 5, 1],\n",
       "         [9, 8, 6, 5]],\n",
       "\n",
       "        [[7, 5, 4, 9],\n",
       "         [8, 1, 5, 5],\n",
       "         [3, 7, 7, 9],\n",
       "         [7, 5, 9, 6]]]])"
      ]
     },
     "execution_count": 135,
     "metadata": {},
     "output_type": "execute_result"
    }
   ],
   "source": [
    "#Get the first four numbers of inner most arrays\n",
    "a4[:, :, :, :4]"
   ]
  },
  {
   "cell_type": "markdown",
   "id": "6e0ed163-d2ef-4b40-885a-9502e11a50e5",
   "metadata": {},
   "source": [
    "### Manipulating Arrays\n",
    "- **Arithmetic** : It's a fancy word for basic maths equations"
   ]
  },
  {
   "cell_type": "code",
   "execution_count": 136,
   "id": "90e3f985-c5fc-4760-95df-55f042718567",
   "metadata": {},
   "outputs": [
    {
     "data": {
      "text/plain": [
       "array([1, 2, 3])"
      ]
     },
     "execution_count": 136,
     "metadata": {},
     "output_type": "execute_result"
    }
   ],
   "source": [
    "a1"
   ]
  },
  {
   "cell_type": "code",
   "execution_count": 141,
   "id": "7ba00c7f-549a-409b-b6ec-40fd96153b93",
   "metadata": {},
   "outputs": [
    {
     "data": {
      "text/plain": [
       "array([1., 1., 1.])"
      ]
     },
     "execution_count": 141,
     "metadata": {},
     "output_type": "execute_result"
    }
   ],
   "source": [
    "ones = np.ones(3)\n",
    "ones"
   ]
  },
  {
   "cell_type": "code",
   "execution_count": 142,
   "id": "c6321a8d-aef4-4480-8f93-4caf14dc19ec",
   "metadata": {},
   "outputs": [
    {
     "data": {
      "text/plain": [
       "array([2., 3., 4.])"
      ]
     },
     "execution_count": 142,
     "metadata": {},
     "output_type": "execute_result"
    }
   ],
   "source": [
    "a1 + ones #Adding the 2 arrays"
   ]
  },
  {
   "cell_type": "code",
   "execution_count": 143,
   "id": "520282fa-38b1-4ee2-b2aa-f339a5ddedda",
   "metadata": {},
   "outputs": [
    {
     "data": {
      "text/plain": [
       "array([0., 1., 2.])"
      ]
     },
     "execution_count": 143,
     "metadata": {},
     "output_type": "execute_result"
    }
   ],
   "source": [
    "a1 - ones #Subtracting the 2 arrays"
   ]
  },
  {
   "cell_type": "code",
   "execution_count": 144,
   "id": "e4380ec8-9761-4dcb-9e01-fb670e44a017",
   "metadata": {},
   "outputs": [
    {
     "data": {
      "text/plain": [
       "array([1., 2., 3.])"
      ]
     },
     "execution_count": 144,
     "metadata": {},
     "output_type": "execute_result"
    }
   ],
   "source": [
    "a1 * ones #Multiply the 2 arrays"
   ]
  },
  {
   "cell_type": "code",
   "execution_count": 148,
   "id": "bb9824bd-70ac-4064-a265-d264748f2dcf",
   "metadata": {},
   "outputs": [
    {
     "data": {
      "text/plain": [
       "array([1, 2, 3])"
      ]
     },
     "execution_count": 148,
     "metadata": {},
     "output_type": "execute_result"
    }
   ],
   "source": [
    "a1"
   ]
  },
  {
   "cell_type": "code",
   "execution_count": 149,
   "id": "e405ed7c-2a83-4aa4-a3b0-c6d31ea97241",
   "metadata": {},
   "outputs": [
    {
     "data": {
      "text/plain": [
       "array([[1. , 2. , 3.3],\n",
       "       [4. , 5. , 6.5]])"
      ]
     },
     "execution_count": 149,
     "metadata": {},
     "output_type": "execute_result"
    }
   ],
   "source": [
    "a2"
   ]
  },
  {
   "cell_type": "code",
   "execution_count": 150,
   "id": "8dcccb62-1319-487f-bd9a-4c73788b9509",
   "metadata": {},
   "outputs": [
    {
     "data": {
      "text/plain": [
       "array([[ 1. ,  4. ,  9.9],\n",
       "       [ 4. , 10. , 19.5]])"
      ]
     },
     "execution_count": 150,
     "metadata": {},
     "output_type": "execute_result"
    }
   ],
   "source": [
    "a1 * a2 #Multiply"
   ]
  },
  {
   "cell_type": "code",
   "execution_count": 151,
   "id": "2405d182-e6d9-41a2-a79b-556238b7f338",
   "metadata": {},
   "outputs": [
    {
     "data": {
      "text/plain": [
       "array([[[ 1,  2,  3],\n",
       "        [ 4,  5,  6],\n",
       "        [ 7,  8,  9]],\n",
       "\n",
       "       [[10, 11, 12],\n",
       "        [13, 14, 15],\n",
       "        [16, 17, 18]]])"
      ]
     },
     "execution_count": 151,
     "metadata": {},
     "output_type": "execute_result"
    }
   ],
   "source": [
    "a3"
   ]
  },
  {
   "cell_type": "code",
   "execution_count": 153,
   "id": "65c21969-f09d-4526-85ca-0aca3a2c3767",
   "metadata": {},
   "outputs": [
    {
     "data": {
      "text/plain": [
       "array([[1. , 2. , 3.3],\n",
       "       [4. , 5. , 6.5]])"
      ]
     },
     "execution_count": 153,
     "metadata": {},
     "output_type": "execute_result"
    }
   ],
   "source": [
    "a2"
   ]
  },
  {
   "cell_type": "code",
   "execution_count": 155,
   "id": "33fec34a-dc95-4bec-aa65-cfa231d3ddf7",
   "metadata": {},
   "outputs": [
    {
     "data": {
      "text/plain": [
       "array([[[  1. ,   4. ,   9.9],\n",
       "        [  4. ,  10. ,  19.8],\n",
       "        [  7. ,  16. ,  29.7]],\n",
       "\n",
       "       [[ 40. ,  55. ,  78. ],\n",
       "        [ 52. ,  70. ,  97.5],\n",
       "        [ 64. ,  85. , 117. ]]])"
      ]
     },
     "execution_count": 155,
     "metadata": {},
     "output_type": "execute_result"
    }
   ],
   "source": [
    "# Reshape a2 to be (2,1,3) or (2,3,1)\n",
    "result = a2.reshape(2,1,3) * a3\n",
    "result"
   ]
  },
  {
   "cell_type": "markdown",
   "id": "e106298c-d34d-44af-800d-d64fda176aa8",
   "metadata": {},
   "source": [
    "### Performing some python arithemic functions"
   ]
  },
  {
   "cell_type": "code",
   "execution_count": 158,
   "id": "f03ff957-cc31-4c08-9056-7ccd0c23f306",
   "metadata": {},
   "outputs": [
    {
     "data": {
      "text/plain": [
       "array([1., 2., 3.])"
      ]
     },
     "execution_count": 158,
     "metadata": {},
     "output_type": "execute_result"
    }
   ],
   "source": [
    "a1 / ones #Division"
   ]
  },
  {
   "cell_type": "code",
   "execution_count": 161,
   "id": "6cfc3574-78cb-47b4-94c8-f96a6170ad46",
   "metadata": {},
   "outputs": [
    {
     "data": {
      "text/plain": [
       "array([[1.        , 1.        , 1.1       ],\n",
       "       [4.        , 2.5       , 2.16666667]])"
      ]
     },
     "execution_count": 161,
     "metadata": {},
     "output_type": "execute_result"
    }
   ],
   "source": [
    "a2 / a1 #division"
   ]
  },
  {
   "cell_type": "code",
   "execution_count": 163,
   "id": "4b883c65-429c-4799-a6a7-22655b3aa6cc",
   "metadata": {},
   "outputs": [
    {
     "data": {
      "text/plain": [
       "array([[1., 1., 1.],\n",
       "       [4., 2., 2.]])"
      ]
     },
     "execution_count": 163,
     "metadata": {},
     "output_type": "execute_result"
    }
   ],
   "source": [
    "a2 // a1 #double slash in python, is for floor division, it removes the decimals from the values (rounds down)"
   ]
  },
  {
   "cell_type": "code",
   "execution_count": 165,
   "id": "f28ea1b9-472f-4b16-b768-d9a269757344",
   "metadata": {},
   "outputs": [
    {
     "data": {
      "text/plain": [
       "array([[1. , 2. , 3.3],\n",
       "       [4. , 5. , 6.5]])"
      ]
     },
     "execution_count": 165,
     "metadata": {},
     "output_type": "execute_result"
    }
   ],
   "source": [
    "a2"
   ]
  },
  {
   "cell_type": "code",
   "execution_count": 164,
   "id": "70369fde-b59f-4d79-8755-ddf0db962358",
   "metadata": {},
   "outputs": [
    {
     "data": {
      "text/plain": [
       "array([[ 1.  ,  4.  , 10.89],\n",
       "       [16.  , 25.  , 42.25]])"
      ]
     },
     "execution_count": 164,
     "metadata": {},
     "output_type": "execute_result"
    }
   ],
   "source": [
    "a2 ** 2 # it's the power, power of a2 here is 2, that means a2 * a2"
   ]
  },
  {
   "cell_type": "markdown",
   "id": "1b9408a7-fa26-40db-9d3c-6d934caaafe1",
   "metadata": {},
   "source": [
    "### Numpy has it's own arithemic methods, which one to use python or numpy, depends on our workflow"
   ]
  },
  {
   "cell_type": "code",
   "execution_count": 167,
   "id": "567be497-1db6-4db0-9e50-5ad0bc476657",
   "metadata": {},
   "outputs": [
    {
     "data": {
      "text/plain": [
       "array([[ 1.  ,  4.  , 10.89],\n",
       "       [16.  , 25.  , 42.25]])"
      ]
     },
     "execution_count": 167,
     "metadata": {},
     "output_type": "execute_result"
    }
   ],
   "source": [
    "np.square(a2)"
   ]
  },
  {
   "cell_type": "code",
   "execution_count": 169,
   "id": "65fe2360-d433-4749-a3b8-b984533b4890",
   "metadata": {},
   "outputs": [
    {
     "data": {
      "text/plain": [
       "array([2., 3., 4.])"
      ]
     },
     "execution_count": 169,
     "metadata": {},
     "output_type": "execute_result"
    }
   ],
   "source": [
    "np.add(a1, ones)"
   ]
  },
  {
   "cell_type": "code",
   "execution_count": 170,
   "id": "cd8e3f0c-595d-4fd4-a628-63dbb41a3a20",
   "metadata": {},
   "outputs": [
    {
     "data": {
      "text/plain": [
       "array([1, 0, 1])"
      ]
     },
     "execution_count": 170,
     "metadata": {},
     "output_type": "execute_result"
    }
   ],
   "source": [
    "#modulo in python, which show us the remainder\n",
    "a1 % 2"
   ]
  },
  {
   "cell_type": "code",
   "execution_count": 172,
   "id": "3b44b1bd-55e9-4e5f-98fc-2e3df23be1e1",
   "metadata": {},
   "outputs": [
    {
     "data": {
      "text/plain": [
       "array([0.5, 1. , 1.5])"
      ]
     },
     "execution_count": 172,
     "metadata": {},
     "output_type": "execute_result"
    }
   ],
   "source": [
    "a1 / 2"
   ]
  },
  {
   "cell_type": "code",
   "execution_count": 173,
   "id": "b95d6b6f-e81b-41c6-886f-5706e0cd6764",
   "metadata": {},
   "outputs": [
    {
     "data": {
      "text/plain": [
       "array([ 2.71828183,  7.3890561 , 20.08553692])"
      ]
     },
     "execution_count": 173,
     "metadata": {},
     "output_type": "execute_result"
    }
   ],
   "source": [
    "#it gives us the exponential of the values\n",
    "np.exp(a1) "
   ]
  },
  {
   "cell_type": "code",
   "execution_count": 174,
   "id": "3d812407-e8d8-4427-973e-d9336d2c6b87",
   "metadata": {},
   "outputs": [
    {
     "data": {
      "text/plain": [
       "array([[  2.71828183,   7.3890561 ,  27.11263892],\n",
       "       [ 54.59815003, 148.4131591 , 665.14163304]])"
      ]
     },
     "execution_count": 174,
     "metadata": {},
     "output_type": "execute_result"
    }
   ],
   "source": [
    "np.exp(a2)"
   ]
  },
  {
   "cell_type": "code",
   "execution_count": 175,
   "id": "bd5ab654-5d87-4497-8d62-91b2cc9dee16",
   "metadata": {},
   "outputs": [
    {
     "data": {
      "text/plain": [
       "array([0.        , 0.69314718, 1.09861229])"
      ]
     },
     "execution_count": 175,
     "metadata": {},
     "output_type": "execute_result"
    }
   ],
   "source": [
    "np.log(a1) #this help to see the log of an array, very useful in machine learning projects"
   ]
  },
  {
   "cell_type": "code",
   "execution_count": null,
   "id": "ed3d9b20-161d-43c7-8782-dfa683c589d3",
   "metadata": {},
   "outputs": [],
   "source": []
  }
 ],
 "metadata": {
  "kernelspec": {
   "display_name": "Python 3 (ipykernel)",
   "language": "python",
   "name": "python3"
  },
  "language_info": {
   "codemirror_mode": {
    "name": "ipython",
    "version": 3
   },
   "file_extension": ".py",
   "mimetype": "text/x-python",
   "name": "python",
   "nbconvert_exporter": "python",
   "pygments_lexer": "ipython3",
   "version": "3.12.9"
  }
 },
 "nbformat": 4,
 "nbformat_minor": 5
}
